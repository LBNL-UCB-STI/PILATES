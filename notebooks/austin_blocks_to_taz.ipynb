{
 "cells": [
  {
   "cell_type": "code",
   "execution_count": 1,
   "id": "14f7171f",
   "metadata": {},
   "outputs": [],
   "source": [
    "import pandas as pd\n",
    "import geopandas as gpd\n",
    "import os\n",
    "import yaml"
   ]
  },
  {
   "cell_type": "code",
   "execution_count": 2,
   "id": "6011e1e1",
   "metadata": {},
   "outputs": [],
   "source": [
    "os.chdir('..')"
   ]
  },
  {
   "cell_type": "code",
   "execution_count": 3,
   "id": "b10ee8e6",
   "metadata": {},
   "outputs": [],
   "source": [
    "from pilates.utils import geog"
   ]
  },
  {
   "cell_type": "code",
   "execution_count": 4,
   "id": "cf121424",
   "metadata": {},
   "outputs": [],
   "source": [
    "blocks = gpd.read_file('/home/mgardner/austin_blocks.shp')"
   ]
  },
  {
   "cell_type": "code",
   "execution_count": 5,
   "id": "a86fcd27",
   "metadata": {},
   "outputs": [],
   "source": [
    "del blocks['TAZ']"
   ]
  },
  {
   "cell_type": "code",
   "execution_count": 6,
   "id": "35606ffb",
   "metadata": {},
   "outputs": [],
   "source": [
    "taz = gpd.read_file('/home/mgardner/2015_2045 CAMPO TAZ SHAPE.shp')"
   ]
  },
  {
   "cell_type": "code",
   "execution_count": 7,
   "id": "415823e8",
   "metadata": {},
   "outputs": [],
   "source": [
    "with open('settings.yaml') as file:\n",
    "    settings = yaml.load(file, Loader=yaml.FullLoader)"
   ]
  },
  {
   "cell_type": "code",
   "execution_count": 8,
   "id": "dc11fd19",
   "metadata": {},
   "outputs": [],
   "source": [
    "local_crs = settings['local_crs']['austin']"
   ]
  },
  {
   "cell_type": "code",
   "execution_count": 9,
   "id": "320b6886",
   "metadata": {},
   "outputs": [],
   "source": [
    "block_to_taz = geog.get_taz_from_block_geoms(blocks, taz, local_crs, 'TAZ')"
   ]
  },
  {
   "cell_type": "code",
   "execution_count": 10,
   "id": "f754199f",
   "metadata": {},
   "outputs": [],
   "source": [
    "b2 = blocks.merge(block_to_taz.reset_index(), on=['GEOID'])"
   ]
  },
  {
   "cell_type": "code",
   "execution_count": 14,
   "id": "2aa81587",
   "metadata": {},
   "outputs": [
    {
     "data": {
      "text/html": [
       "<div>\n",
       "<style scoped>\n",
       "    .dataframe tbody tr th:only-of-type {\n",
       "        vertical-align: middle;\n",
       "    }\n",
       "\n",
       "    .dataframe tbody tr th {\n",
       "        vertical-align: top;\n",
       "    }\n",
       "\n",
       "    .dataframe thead th {\n",
       "        text-align: right;\n",
       "    }\n",
       "</style>\n",
       "<table border=\"1\" class=\"dataframe\">\n",
       "  <thead>\n",
       "    <tr style=\"text-align: right;\">\n",
       "      <th></th>\n",
       "      <th>GEOID</th>\n",
       "      <th>zone_id</th>\n",
       "      <th>taz_id</th>\n",
       "      <th>TAZ</th>\n",
       "    </tr>\n",
       "  </thead>\n",
       "  <tbody>\n",
       "    <tr>\n",
       "      <th>2080</th>\n",
       "      <td>480219505012027</td>\n",
       "      <td>1372</td>\n",
       "      <td>4802100001372</td>\n",
       "      <td>1205</td>\n",
       "    </tr>\n",
       "  </tbody>\n",
       "</table>\n",
       "</div>"
      ],
      "text/plain": [
       "                GEOID  zone_id         taz_id   TAZ\n",
       "2080  480219505012027     1372  4802100001372  1205"
      ]
     },
     "execution_count": 14,
     "metadata": {},
     "output_type": "execute_result"
    }
   ],
   "source": [
    "b2[['GEOID','zone_id', 'taz_id','TAZ']][b2['GEOID'] == '480219505012027']"
   ]
  },
  {
   "cell_type": "code",
   "execution_count": 16,
   "id": "ff98f3f6",
   "metadata": {},
   "outputs": [],
   "source": [
    "b2[['GEOID','TAZ']].to_csv('pilates/polaris/data/austin_blocks_to_taz.csv',index=False)"
   ]
  },
  {
   "cell_type": "code",
   "execution_count": 13,
   "id": "a24c0b19",
   "metadata": {},
   "outputs": [
    {
     "data": {
      "text/plain": [
       "(37569, 28)"
      ]
     },
     "execution_count": 13,
     "metadata": {},
     "output_type": "execute_result"
    }
   ],
   "source": [
    "blocks.shape"
   ]
  },
  {
   "cell_type": "code",
   "execution_count": 42,
   "id": "71c2346b",
   "metadata": {},
   "outputs": [
    {
     "data": {
      "text/html": [
       "<div>\n",
       "<style scoped>\n",
       "    .dataframe tbody tr th:only-of-type {\n",
       "        vertical-align: middle;\n",
       "    }\n",
       "\n",
       "    .dataframe tbody tr th {\n",
       "        vertical-align: top;\n",
       "    }\n",
       "\n",
       "    .dataframe thead th {\n",
       "        text-align: right;\n",
       "    }\n",
       "</style>\n",
       "<table border=\"1\" class=\"dataframe\">\n",
       "  <thead>\n",
       "    <tr style=\"text-align: right;\">\n",
       "      <th></th>\n",
       "      <th>GEOID</th>\n",
       "      <th>zone_id</th>\n",
       "      <th>taz_id</th>\n",
       "      <th>TAZ</th>\n",
       "    </tr>\n",
       "  </thead>\n",
       "  <tbody>\n",
       "    <tr>\n",
       "      <th>33</th>\n",
       "      <td>480219505023024</td>\n",
       "      <td>1167</td>\n",
       "      <td>4802100001371</td>\n",
       "      <td>1371</td>\n",
       "    </tr>\n",
       "    <tr>\n",
       "      <th>245</th>\n",
       "      <td>480219505012028</td>\n",
       "      <td>1372</td>\n",
       "      <td>4802100001372</td>\n",
       "      <td>1205</td>\n",
       "    </tr>\n",
       "    <tr>\n",
       "      <th>279</th>\n",
       "      <td>480219501001024</td>\n",
       "      <td>1388</td>\n",
       "      <td>4802100001212</td>\n",
       "      <td>1368</td>\n",
       "    </tr>\n",
       "    <tr>\n",
       "      <th>364</th>\n",
       "      <td>480219503005099</td>\n",
       "      <td>2191</td>\n",
       "      <td>4802100001382</td>\n",
       "      <td>1386</td>\n",
       "    </tr>\n",
       "    <tr>\n",
       "      <th>371</th>\n",
       "      <td>480219506001199</td>\n",
       "      <td>1141</td>\n",
       "      <td>4802100001183</td>\n",
       "      <td>1183</td>\n",
       "    </tr>\n",
       "    <tr>\n",
       "      <th>...</th>\n",
       "      <td>...</td>\n",
       "      <td>...</td>\n",
       "      <td>...</td>\n",
       "      <td>...</td>\n",
       "    </tr>\n",
       "    <tr>\n",
       "      <th>37382</th>\n",
       "      <td>484910215072012</td>\n",
       "      <td>109</td>\n",
       "      <td>4849100001412</td>\n",
       "      <td>1412</td>\n",
       "    </tr>\n",
       "    <tr>\n",
       "      <th>37402</th>\n",
       "      <td>484910206031006</td>\n",
       "      <td>1847</td>\n",
       "      <td>4849100001946</td>\n",
       "      <td>113</td>\n",
       "    </tr>\n",
       "    <tr>\n",
       "      <th>37427</th>\n",
       "      <td>484910210002034</td>\n",
       "      <td>888</td>\n",
       "      <td>4849100000887</td>\n",
       "      <td>887</td>\n",
       "    </tr>\n",
       "    <tr>\n",
       "      <th>37487</th>\n",
       "      <td>484910207031008</td>\n",
       "      <td>1355</td>\n",
       "      <td>4849100001320</td>\n",
       "      <td>1320</td>\n",
       "    </tr>\n",
       "    <tr>\n",
       "      <th>37551</th>\n",
       "      <td>484910205044017</td>\n",
       "      <td>1050</td>\n",
       "      <td>4849100001050</td>\n",
       "      <td>156</td>\n",
       "    </tr>\n",
       "  </tbody>\n",
       "</table>\n",
       "<p>888 rows × 4 columns</p>\n",
       "</div>"
      ],
      "text/plain": [
       "                 GEOID  zone_id         taz_id   TAZ\n",
       "33     480219505023024     1167  4802100001371  1371\n",
       "245    480219505012028     1372  4802100001372  1205\n",
       "279    480219501001024     1388  4802100001212  1368\n",
       "364    480219503005099     2191  4802100001382  1386\n",
       "371    480219506001199     1141  4802100001183  1183\n",
       "...                ...      ...            ...   ...\n",
       "37382  484910215072012      109  4849100001412  1412\n",
       "37402  484910206031006     1847  4849100001946   113\n",
       "37427  484910210002034      888  4849100000887   887\n",
       "37487  484910207031008     1355  4849100001320  1320\n",
       "37551  484910205044017     1050  4849100001050   156\n",
       "\n",
       "[888 rows x 4 columns]"
      ]
     },
     "execution_count": 42,
     "metadata": {},
     "output_type": "execute_result"
    }
   ],
   "source": [
    "b2[b2['zone_id'] != b2['TAZ']][['GEOID','zone_id', 'taz_id','TAZ']]"
   ]
  },
  {
   "cell_type": "code",
   "execution_count": 43,
   "id": "4e9b4da6",
   "metadata": {},
   "outputs": [],
   "source": [
    "zones_gdf = taz"
   ]
  },
  {
   "cell_type": "code",
   "execution_count": 44,
   "id": "6355c0b5",
   "metadata": {},
   "outputs": [],
   "source": [
    "blocks_gdf = blocks"
   ]
  },
  {
   "cell_type": "code",
   "execution_count": 45,
   "id": "4fc4461f",
   "metadata": {},
   "outputs": [],
   "source": [
    "\n",
    "zones_gdf = zones_gdf[~zones_gdf['geometry'].is_empty]"
   ]
  },
  {
   "cell_type": "code",
   "execution_count": 46,
   "id": "445b8541",
   "metadata": {},
   "outputs": [],
   "source": [
    "zones_gdf = zones_gdf.to_crs(local_crs)\n",
    "blocks_gdf = blocks_gdf.to_crs(local_crs)"
   ]
  },
  {
   "cell_type": "code",
   "execution_count": 47,
   "id": "db5b3588",
   "metadata": {},
   "outputs": [],
   "source": [
    "zones_gdf['zone_area'] = zones_gdf.geometry.area"
   ]
  },
  {
   "cell_type": "code",
   "execution_count": 48,
   "id": "4bc9ee87",
   "metadata": {},
   "outputs": [],
   "source": [
    "within = gpd.sjoin(blocks_gdf, zones_gdf.reset_index(), how='inner', op='within')"
   ]
  },
  {
   "cell_type": "code",
   "execution_count": null,
   "id": "fa842547",
   "metadata": {},
   "outputs": [],
   "source": [
    "within = within.sort_values(['GEOID', 'zone_area'])"
   ]
  },
  {
   "cell_type": "code",
   "execution_count": 55,
   "id": "306e6bf3",
   "metadata": {},
   "outputs": [],
   "source": [
    "within = within.sort_values(['GEOID', 'zone_area'])"
   ]
  },
  {
   "cell_type": "code",
   "execution_count": 56,
   "id": "346da50a",
   "metadata": {},
   "outputs": [],
   "source": [
    "within = within.drop_duplicates('GEOID', keep='first')"
   ]
  },
  {
   "cell_type": "code",
   "execution_count": 72,
   "id": "2c335305",
   "metadata": {},
   "outputs": [
    {
     "data": {
      "text/html": [
       "<div>\n",
       "<style scoped>\n",
       "    .dataframe tbody tr th:only-of-type {\n",
       "        vertical-align: middle;\n",
       "    }\n",
       "\n",
       "    .dataframe tbody tr th {\n",
       "        vertical-align: top;\n",
       "    }\n",
       "\n",
       "    .dataframe thead th {\n",
       "        text-align: right;\n",
       "    }\n",
       "</style>\n",
       "<table border=\"1\" class=\"dataframe\">\n",
       "  <thead>\n",
       "    <tr style=\"text-align: right;\">\n",
       "      <th></th>\n",
       "      <th>GEOID</th>\n",
       "      <th>STATE</th>\n",
       "      <th>COUNTY_left</th>\n",
       "      <th>TRACT_left</th>\n",
       "      <th>BLKGRP</th>\n",
       "      <th>BLOCK</th>\n",
       "      <th>CENTLAT</th>\n",
       "      <th>CENTLON</th>\n",
       "      <th>MTFCC</th>\n",
       "      <th>x</th>\n",
       "      <th>...</th>\n",
       "      <th>D_QRTROP45</th>\n",
       "      <th>D_HALFOP45</th>\n",
       "      <th>AUTODEST45</th>\n",
       "      <th>AUTOORIT45</th>\n",
       "      <th>GQPOP45</th>\n",
       "      <th>TOTEMP15__</th>\n",
       "      <th>POP15__POP</th>\n",
       "      <th>POP45__POP</th>\n",
       "      <th>area_type__right</th>\n",
       "      <th>zone_area</th>\n",
       "    </tr>\n",
       "  </thead>\n",
       "  <tbody>\n",
       "    <tr>\n",
       "      <th>2080</th>\n",
       "      <td>480219505012027</td>\n",
       "      <td>48</td>\n",
       "      <td>021</td>\n",
       "      <td>950501</td>\n",
       "      <td>2</td>\n",
       "      <td>2027</td>\n",
       "      <td>+30.1482475</td>\n",
       "      <td>-097.3597143</td>\n",
       "      <td>G5040</td>\n",
       "      <td>-97.359714</td>\n",
       "      <td>...</td>\n",
       "      <td>0.0</td>\n",
       "      <td>0.0</td>\n",
       "      <td>0</td>\n",
       "      <td>14</td>\n",
       "      <td>0.0</td>\n",
       "      <td>0</td>\n",
       "      <td>0</td>\n",
       "      <td>2074</td>\n",
       "      <td>1</td>\n",
       "      <td>2.650853e+07</td>\n",
       "    </tr>\n",
       "  </tbody>\n",
       "</table>\n",
       "<p>1 rows × 216 columns</p>\n",
       "</div>"
      ],
      "text/plain": [
       "                GEOID STATE COUNTY_left TRACT_left BLKGRP BLOCK      CENTLAT  \\\n",
       "2080  480219505012027    48         021     950501      2  2027  +30.1482475   \n",
       "\n",
       "           CENTLON  MTFCC          x  ...  D_QRTROP45  D_HALFOP45  AUTODEST45  \\\n",
       "2080  -097.3597143  G5040 -97.359714  ...         0.0         0.0           0   \n",
       "\n",
       "      AUTOORIT45 GQPOP45  TOTEMP15__  POP15__POP  POP45__POP  \\\n",
       "2080          14     0.0           0           0        2074   \n",
       "\n",
       "      area_type__right     zone_area  \n",
       "2080                 1  2.650853e+07  \n",
       "\n",
       "[1 rows x 216 columns]"
      ]
     },
     "execution_count": 72,
     "metadata": {},
     "output_type": "execute_result"
    }
   ],
   "source": [
    "within[within['GEOID'] == '480219505012027']"
   ]
  },
  {
   "cell_type": "code",
   "execution_count": 60,
   "id": "7979c9dc",
   "metadata": {},
   "outputs": [],
   "source": [
    "block_to_taz_results = pd.concat((\n",
    "    block_to_taz_results, within[['GEOID', 'TAZ']]))"
   ]
  },
  {
   "cell_type": "code",
   "execution_count": 61,
   "id": "654971f5",
   "metadata": {},
   "outputs": [],
   "source": [
    "unassigned_mask = ~blocks_gdf['GEOID'].isin(block_to_taz_results['GEOID'])"
   ]
  },
  {
   "cell_type": "code",
   "execution_count": 73,
   "id": "58ca9bda",
   "metadata": {},
   "outputs": [],
   "source": [
    "intx = gpd.overlay(\n",
    "    blocks_gdf, zones_gdf.reset_index(),\n",
    "    how='intersection')"
   ]
  },
  {
   "cell_type": "code",
   "execution_count": 74,
   "id": "219a57c3",
   "metadata": {},
   "outputs": [],
   "source": [
    "intx['intx_area'] = intx['geometry'].area\n",
    "intx = intx.sort_values(['GEOID', 'intx_area'], ascending=False)\n",
    "intx = intx.drop_duplicates('GEOID', keep='first')"
   ]
  },
  {
   "cell_type": "code",
   "execution_count": 78,
   "id": "1d9f847b",
   "metadata": {},
   "outputs": [
    {
     "data": {
      "text/plain": [
       "3528    1155\n",
       "Name: TAZ, dtype: int64"
      ]
     },
     "execution_count": 78,
     "metadata": {},
     "output_type": "execute_result"
    }
   ],
   "source": [
    "intx[intx['GEOID'] == '480219504003004']['TAZ']"
   ]
  },
  {
   "cell_type": "code",
   "execution_count": 70,
   "id": "6dec9f5a",
   "metadata": {},
   "outputs": [
    {
     "data": {
      "text/html": [
       "<div>\n",
       "<style scoped>\n",
       "    .dataframe tbody tr th:only-of-type {\n",
       "        vertical-align: middle;\n",
       "    }\n",
       "\n",
       "    .dataframe tbody tr th {\n",
       "        vertical-align: top;\n",
       "    }\n",
       "\n",
       "    .dataframe thead th {\n",
       "        text-align: right;\n",
       "    }\n",
       "</style>\n",
       "<table border=\"1\" class=\"dataframe\">\n",
       "  <thead>\n",
       "    <tr style=\"text-align: right;\">\n",
       "      <th></th>\n",
       "      <th>GEOID</th>\n",
       "      <th>STATE</th>\n",
       "      <th>COUNTY</th>\n",
       "      <th>TRACT</th>\n",
       "      <th>BLKGRP</th>\n",
       "      <th>BLOCK</th>\n",
       "      <th>CENTLAT</th>\n",
       "      <th>CENTLON</th>\n",
       "      <th>MTFCC</th>\n",
       "      <th>x</th>\n",
       "      <th>...</th>\n",
       "      <th>value_impu</th>\n",
       "      <th>place_id</th>\n",
       "      <th>taz_id</th>\n",
       "      <th>zone_id</th>\n",
       "      <th>proportion</th>\n",
       "      <th>TOTEMP</th>\n",
       "      <th>TOTPOP</th>\n",
       "      <th>TOTACRE</th>\n",
       "      <th>area_type_</th>\n",
       "      <th>geometry</th>\n",
       "    </tr>\n",
       "  </thead>\n",
       "  <tbody>\n",
       "    <tr>\n",
       "      <th>2080</th>\n",
       "      <td>480219505012027</td>\n",
       "      <td>48</td>\n",
       "      <td>021</td>\n",
       "      <td>950501</td>\n",
       "      <td>2</td>\n",
       "      <td>2027</td>\n",
       "      <td>+30.1482475</td>\n",
       "      <td>-097.3597143</td>\n",
       "      <td>G5040</td>\n",
       "      <td>-97.359714</td>\n",
       "      <td>...</td>\n",
       "      <td>1</td>\n",
       "      <td>None</td>\n",
       "      <td>4802100001372</td>\n",
       "      <td>1372</td>\n",
       "      <td>0.371152</td>\n",
       "      <td>8.0</td>\n",
       "      <td>0.0</td>\n",
       "      <td>152.10756</td>\n",
       "      <td>0.131486</td>\n",
       "      <td>POLYGON ((757021.375 4257718.377, 757068.527 4...</td>\n",
       "    </tr>\n",
       "  </tbody>\n",
       "</table>\n",
       "<p>1 rows × 28 columns</p>\n",
       "</div>"
      ],
      "text/plain": [
       "                GEOID STATE COUNTY   TRACT BLKGRP BLOCK      CENTLAT  \\\n",
       "2080  480219505012027    48    021  950501      2  2027  +30.1482475   \n",
       "\n",
       "           CENTLON  MTFCC          x  ...  value_impu  place_id  \\\n",
       "2080  -097.3597143  G5040 -97.359714  ...           1      None   \n",
       "\n",
       "             taz_id  zone_id proportion  TOTEMP  TOTPOP    TOTACRE  \\\n",
       "2080  4802100001372     1372   0.371152     8.0     0.0  152.10756   \n",
       "\n",
       "      area_type_                                           geometry  \n",
       "2080    0.131486  POLYGON ((757021.375 4257718.377, 757068.527 4...  \n",
       "\n",
       "[1 rows x 28 columns]"
      ]
     },
     "execution_count": 70,
     "metadata": {},
     "output_type": "execute_result"
    }
   ],
   "source": [
    "blocks_gdf[blocks_gdf['GEOID'] == '480219505012027']"
   ]
  },
  {
   "cell_type": "code",
   "execution_count": 71,
   "id": "754b82be",
   "metadata": {},
   "outputs": [
    {
     "data": {
      "text/html": [
       "<div>\n",
       "<style scoped>\n",
       "    .dataframe tbody tr th:only-of-type {\n",
       "        vertical-align: middle;\n",
       "    }\n",
       "\n",
       "    .dataframe tbody tr th {\n",
       "        vertical-align: top;\n",
       "    }\n",
       "\n",
       "    .dataframe thead th {\n",
       "        text-align: right;\n",
       "    }\n",
       "</style>\n",
       "<table border=\"1\" class=\"dataframe\">\n",
       "  <thead>\n",
       "    <tr style=\"text-align: right;\">\n",
       "      <th></th>\n",
       "      <th>GEOID</th>\n",
       "      <th>TAZ</th>\n",
       "    </tr>\n",
       "  </thead>\n",
       "  <tbody>\n",
       "    <tr>\n",
       "      <th>2080</th>\n",
       "      <td>480219505012027</td>\n",
       "      <td>1205</td>\n",
       "    </tr>\n",
       "    <tr>\n",
       "      <th>2080</th>\n",
       "      <td>480219505012027</td>\n",
       "      <td>1205</td>\n",
       "    </tr>\n",
       "  </tbody>\n",
       "</table>\n",
       "</div>"
      ],
      "text/plain": [
       "                GEOID   TAZ\n",
       "2080  480219505012027  1205\n",
       "2080  480219505012027  1205"
      ]
     },
     "execution_count": 71,
     "metadata": {},
     "output_type": "execute_result"
    }
   ],
   "source": [
    "block_to_taz_results[block_to_taz_results['GEOID'] == '480219505012027']"
   ]
  },
  {
   "cell_type": "code",
   "execution_count": null,
   "id": "b39d1569",
   "metadata": {},
   "outputs": [],
   "source": []
  }
 ],
 "metadata": {
  "kernelspec": {
   "display_name": "Python [conda env:pilates-temp] *",
   "language": "python",
   "name": "conda-env-pilates-temp-py"
  },
  "language_info": {
   "codemirror_mode": {
    "name": "ipython",
    "version": 3
   },
   "file_extension": ".py",
   "mimetype": "text/x-python",
   "name": "python",
   "nbconvert_exporter": "python",
   "pygments_lexer": "ipython3",
   "version": "3.9.2"
  }
 },
 "nbformat": 4,
 "nbformat_minor": 5
}
