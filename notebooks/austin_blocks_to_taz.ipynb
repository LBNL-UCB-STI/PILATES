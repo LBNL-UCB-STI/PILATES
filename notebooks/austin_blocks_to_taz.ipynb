{
 "cells": [
  {
   "cell_type": "code",
   "execution_count": 1,
   "id": "14f7171f",
   "metadata": {},
   "outputs": [],
   "source": [
    "import pandas as pd\n",
    "import geopandas as gpd\n",
    "import os\n",
    "import yaml"
   ]
  },
  {
   "cell_type": "code",
   "execution_count": 2,
   "id": "6011e1e1",
   "metadata": {},
   "outputs": [],
   "source": [
    "os.chdir('..')"
   ]
  },
  {
   "cell_type": "code",
   "execution_count": 3,
   "id": "b10ee8e6",
   "metadata": {},
   "outputs": [],
   "source": [
    "from pilates.utils import geog"
   ]
  },
  {
   "cell_type": "code",
   "execution_count": 4,
   "id": "cf121424",
   "metadata": {},
   "outputs": [],
   "source": [
    "blocks = gpd.read_file('/home/mgardner/austin_blocks.shp')\n",
    "del blocks['TAZ']"
   ]
  },
  {
   "cell_type": "code",
   "execution_count": 6,
   "id": "35606ffb",
   "metadata": {},
   "outputs": [],
   "source": [
    "taz = gpd.read_file('/home/mgardner/campo_zoning.shp')"
   ]
  },
  {
   "cell_type": "code",
   "execution_count": 8,
   "id": "415823e8",
   "metadata": {},
   "outputs": [],
   "source": [
    "with open('settings.yaml') as file:\n",
    "    settings = yaml.load(file, Loader=yaml.FullLoader)"
   ]
  },
  {
   "cell_type": "code",
   "execution_count": 9,
   "id": "dc11fd19",
   "metadata": {},
   "outputs": [],
   "source": [
    "local_crs = settings['local_crs']['austin']"
   ]
  },
  {
   "cell_type": "code",
   "execution_count": 21,
   "id": "320b6886",
   "metadata": {},
   "outputs": [],
   "source": [
    "block_to_taz = geog.get_taz_from_block_geoms(blocks, taz, local_crs, 'zone').astype(int)"
   ]
  },
  {
   "cell_type": "code",
   "execution_count": 22,
   "id": "f754199f",
   "metadata": {},
   "outputs": [],
   "source": [
    "b2 = blocks.merge(block_to_taz.reset_index(), on=['GEOID'])"
   ]
  },
  {
   "cell_type": "code",
   "execution_count": 23,
   "id": "ff98f3f6",
   "metadata": {},
   "outputs": [],
   "source": [
    "b2[['GEOID','zone']].to_csv('pilates/polaris/data/austin_blocks_to_taz.csv',index=False)"
   ]
  },
  {
   "cell_type": "code",
   "execution_count": 24,
   "id": "96c12bcc",
   "metadata": {},
   "outputs": [
    {
     "data": {
      "text/plain": [
       "2093"
      ]
     },
     "execution_count": 24,
     "metadata": {},
     "output_type": "execute_result"
    }
   ],
   "source": [
    "b2['zone'].nunique()"
   ]
  },
  {
   "cell_type": "code",
   "execution_count": null,
   "id": "e6877a0c",
   "metadata": {},
   "outputs": [],
   "source": []
  }
 ],
 "metadata": {
  "kernelspec": {
   "display_name": "Python [conda env:pilates-temp] *",
   "language": "python",
   "name": "conda-env-pilates-temp-py"
  },
  "language_info": {
   "codemirror_mode": {
    "name": "ipython",
    "version": 3
   },
   "file_extension": ".py",
   "mimetype": "text/x-python",
   "name": "python",
   "nbconvert_exporter": "python",
   "pygments_lexer": "ipython3",
   "version": "3.9.2"
  }
 },
 "nbformat": 4,
 "nbformat_minor": 5
}
